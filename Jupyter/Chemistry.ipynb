{
 "cells": [
  {
   "cell_type": "code",
   "execution_count": 374,
   "metadata": {},
   "outputs": [],
   "source": [
    "class Atom:\n",
    "    def __init__(self,z_value,name):\n",
    "        self.name = name\n",
    "        self.electrons = z_value\n",
    "        self.protons = z_value\n",
    "        self.neutrons = z_value\n",
    "        self.atomic_mass = self.protons + self.neutrons\n",
    "        self.electricity_layer_pattern = [2,8,18,32,32,18,8]\n",
    "        self.electricity_layer =[]\n",
    "    def deuterio(self):\n",
    "        self.neutrons = self.protons \n",
    "    def tritio(self):\n",
    "        self.neutrons = self.protons +1\n",
    "    def layers(self):\n",
    "        for layer in self.electricity_layer_pattern:\n",
    "            if(self.electrons > layer):\n",
    "                self.electricity_layer.append(layer)\n",
    "                self.electrons -= layer\n",
    "            elif(self.electrons < layer and self.electrons > 0):\n",
    "                self.electricity_layer.append(self.electrons)\n",
    "                self.electrons -= layer\n",
    "        return self.electricity_layer\n",
    "class Particle:\n",
    "    def __init__(self,atoms):\n",
    "        self.atoms = atoms\n",
    "        self.electrons = 0\n",
    "        self.protons = 0\n",
    "        self.neutrons = 0\n",
    "        self.electricity_layer_pattern = [2,8,18,32,32,18,8]\n",
    "        self.electricity_layer =[]\n",
    "        self.list_of_atoms = []\n",
    "        self.list_of_quantity_atoms = []\n",
    "        self.repeated = []\n",
    "        self.structure = []\n",
    "        self.repeat_list = []\n",
    "        self.composed_name = \"\"\n",
    "        for atom in atoms:\n",
    "            self.electrons += atom.electrons\n",
    "            self.protons += atom.protons\n",
    "            self.neutrons += atom.neutrons\n",
    "        self.atomic_mass = self.protons + self.neutrons\n",
    "    def layers(self):\n",
    "        for layer in self.electricity_layer_pattern:\n",
    "            if(self.electrons > layer):\n",
    "                self.electricity_layer.append(layer)\n",
    "                self.electrons -= layer\n",
    "            elif(self.electrons < layer and self.electrons > 0):\n",
    "                self.electricity_layer.append(self.electrons)\n",
    "                self.electrons -= layer\n",
    "        return self.electricity_layer\n",
    "    def compose_name(self):\n",
    "            self.composed_name = \"\"\n",
    "            self.list_of_atoms = []\n",
    "            self.repeated = []\n",
    "            self.structure = []\n",
    "            self.unique_atoms = []\n",
    "            for atom in self.atoms:\n",
    "                if atom.name not in self.list_of_atoms:\n",
    "                    self.list_of_atoms.append(atom.name)\n",
    "                    self.unique_atoms.append(atom.name)\n",
    "                else:\n",
    "                    self.list_of_atoms.append(atom.name)\n",
    "            for atom in self.unique_atoms:\n",
    "                if(self.list_of_atoms.count(atom) > 1):\n",
    "                    self.composed_name += (atom+str(self.list_of_atoms.count(atom)))\n",
    "                else:\n",
    "                    self.list_of_atoms.count(atom)\n",
    "                    self.composed_name +=(atom)\n",
    "            return self.composed_name\n",
    "    def receive_atom(self,atoms):\n",
    "        for atom in atoms:\n",
    "            self.atoms.append(atom)\n",
    "            self.list_of_atoms.append(atom.name)\n",
    "            self.electrons += atom.electrons\n",
    "            self.protons += atom.protons\n",
    "            self.neutrons += atom.neutrons\n",
    "        self.compose_name()\n",
    "        self.atomic_mass = self.protons + self.neutrons\n",
    "class Structures:\n",
    "    def __init__(self,particles):\n",
    "        self.particles = particles\n",
    "        self.electrons = 0\n",
    "        self.protons = 0\n",
    "        self.neutrons = 0\n",
    "        self.electricity_layer_pattern = [2,8,18,32,32,18,8]\n",
    "        self.electricity_layer =[]\n",
    "        for particle in particles:\n",
    "            self.electrons += particle.electrons\n",
    "            self.protons += particle.protons\n",
    "            self.neutrons += particle.neutrons\n",
    "        self.composed_name = \"\"\n",
    "        self.list_of_particles = []\n",
    "        self.unique_particles = []\n",
    "        self.atomic_mass = self.protons + self.neutrons\n",
    "        self.form()        \n",
    "    def layers(self):\n",
    "        for layer in self.electricity_layer_pattern:\n",
    "            if(self.electrons > layer):\n",
    "                self.electricity_layer.append(layer)\n",
    "                self.electrons -= layer\n",
    "            elif(self.electrons < layer and self.electrons > 0):\n",
    "                self.electricity_layer.append(self.electrons)\n",
    "                self.electrons -= layer\n",
    "        return self.electricity_layer\n",
    "    def form(self):\n",
    "        for particle in self.particles:\n",
    "            particle.compose_name()\n",
    "            if(particle.composed_name not in self.list_of_particles):\n",
    "                self.list_of_particles.append(particle.composed_name)\n",
    "                self.unique_particles.append(particle.composed_name)\n",
    "            else:\n",
    "                self.list_of_particles.append(particle.composed_name)\n",
    "        for particle in self.unique_particles:\n",
    "            if(self.list_of_particles.count(particle)>1):\n",
    "                self.composed_name += (str(self.list_of_particles.count(particle))+particle)\n",
    "            else:\n",
    "                self.composed_name += particle\n",
    "        return self.composed_name\n",
    " \n",
    "\n"
   ]
  },
  {
   "cell_type": "code",
   "execution_count": 375,
   "metadata": {},
   "outputs": [],
   "source": [
    "#Experimento para criar simples atomos\n",
    "Hydrogen = Atom(1,\"H\")\n",
    "Oxygen = Atom(6,\"O\")\n",
    "Carbon = Atom(4,\"C\")"
   ]
  },
  {
   "cell_type": "code",
   "execution_count": 376,
   "metadata": {},
   "outputs": [
    {
     "data": {
      "text/plain": [
       "'H2O'"
      ]
     },
     "execution_count": 376,
     "metadata": {},
     "output_type": "execute_result"
    }
   ],
   "source": [
    "#Experimento para criar uma particula de H20 com os atomos de Oxigênio e Hidrogênio\n",
    "WaterParticle = Particle([Hydrogen,Hydrogen,Oxygen])\n",
    "WaterParticle.compose_name()"
   ]
  },
  {
   "cell_type": "code",
   "execution_count": 377,
   "metadata": {},
   "outputs": [
    {
     "name": "stdout",
     "output_type": "stream",
     "text": [
      "2H2O [2, 8, 6]\n"
     ]
    },
    {
     "data": {
      "text/plain": [
       "32"
      ]
     },
     "execution_count": 377,
     "metadata": {},
     "output_type": "execute_result"
    }
   ],
   "source": [
    "## Experimento com a criação de uma estrutura de com duas particulas de H2O\n",
    "Water = Structures([WaterParticle,WaterParticle])\n",
    "print(Water.composed_name,Water.layers())\n",
    "Water.atomic_mass"
   ]
  },
  {
   "cell_type": "code",
   "execution_count": 378,
   "metadata": {},
   "outputs": [
    {
     "name": "stdout",
     "output_type": "stream",
     "text": [
      "2H2OCO2 [2, 8, 18, 4]\n"
     ]
    },
    {
     "data": {
      "text/plain": [
       "64"
      ]
     },
     "execution_count": 378,
     "metadata": {},
     "output_type": "execute_result"
    }
   ],
   "source": [
    "## Experimento com uma estrutura de com particulas de H20 e particulas de CO2 na mesma solução\n",
    "CarbonParticle = Particle([Carbon,Oxygen,Oxygen])\n",
    "Water = Structures([WaterParticle,WaterParticle,CarbonParticle])\n",
    "print(Water.composed_name,Water.layers())\n",
    "Water.atomic_mass"
   ]
  },
  {
   "cell_type": "code",
   "execution_count": null,
   "metadata": {},
   "outputs": [],
   "source": []
  },
  {
   "cell_type": "code",
   "execution_count": null,
   "metadata": {},
   "outputs": [],
   "source": []
  }
 ],
 "metadata": {
  "kernelspec": {
   "display_name": "Python 3",
   "language": "python",
   "name": "python3"
  },
  "language_info": {
   "codemirror_mode": {
    "name": "ipython",
    "version": 3
   },
   "file_extension": ".py",
   "mimetype": "text/x-python",
   "name": "python",
   "nbconvert_exporter": "python",
   "pygments_lexer": "ipython3",
   "version": "3.6.5"
  }
 },
 "nbformat": 4,
 "nbformat_minor": 2
}
